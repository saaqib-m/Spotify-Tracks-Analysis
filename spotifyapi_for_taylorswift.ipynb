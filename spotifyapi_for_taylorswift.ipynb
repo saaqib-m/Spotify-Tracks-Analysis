{
 "cells": [
  {
   "cell_type": "code",
   "execution_count": 2,
   "metadata": {},
   "outputs": [],
   "source": [
    "import requests\n"
   ]
  },
  {
   "cell_type": "code",
   "execution_count": 3,
   "metadata": {},
   "outputs": [],
   "source": [
    "CLIENT_ID = 'f9147c915d124cd982610cab7bfc2ecc'\n",
    "CLIENT_SECRET = '95f0f129c8a743d884f368f649275bfb'"
   ]
  },
  {
   "cell_type": "code",
   "execution_count": 4,
   "metadata": {},
   "outputs": [],
   "source": [
    "AUTH_URL = 'https://accounts.spotify.com/api/token'\n",
    "\n",
    "# POST\n",
    "auth_response = requests.post(AUTH_URL, {\n",
    "    'grant_type': 'client_credentials',\n",
    "    'client_id': CLIENT_ID,\n",
    "    'client_secret': CLIENT_SECRET,\n",
    "})\n",
    "\n",
    "# convert the response to JSON\n",
    "auth_response_data = auth_response.json()\n",
    "\n",
    "# save the access token\n",
    "access_token = auth_response_data['access_token']"
   ]
  },
  {
   "cell_type": "code",
   "execution_count": 5,
   "metadata": {},
   "outputs": [
    {
     "data": {
      "text/plain": [
       "{'access_token': 'BQA2tJamaZhPj1JIP-LHyvyZhX0b3OoJpyJJxDvADqcwSXjtjoloYOx94rIylxdUIKz00xvaBvByCun4TpN6NTpsGD-lnOWS3u-ZUXdoEpERCGTdojo',\n",
       " 'token_type': 'Bearer',\n",
       " 'expires_in': 3600}"
      ]
     },
     "execution_count": 5,
     "metadata": {},
     "output_type": "execute_result"
    }
   ],
   "source": [
    "auth_response_data"
   ]
  },
  {
   "cell_type": "code",
   "execution_count": 6,
   "metadata": {},
   "outputs": [],
   "source": [
    "headers = {\n",
    "    'Authorization': 'Bearer {token}'.format(token=access_token)\n",
    "}"
   ]
  },
  {
   "cell_type": "code",
   "execution_count": 7,
   "metadata": {},
   "outputs": [],
   "source": [
    "# base URL of all Spotify API endpoints\n",
    "BASE_URL = 'https://api.spotify.com/v1/'\n",
    "\n",
    "# Track ID from the URI - any song\n",
    "track_id = '6y0igZArWVi6Iz0rj35c1Y'\n",
    "\n",
    "# actual GET request with proper header\n",
    "r = requests.get(BASE_URL + 'audio-features/' + track_id, headers=headers)"
   ]
  },
  {
   "cell_type": "code",
   "execution_count": 8,
   "metadata": {},
   "outputs": [
    {
     "data": {
      "text/plain": [
       "{'danceability': 0.54,\n",
       " 'energy': 0.59,\n",
       " 'key': 0,\n",
       " 'loudness': -4.359,\n",
       " 'mode': 1,\n",
       " 'speechiness': 0.0528,\n",
       " 'acousticness': 0.446,\n",
       " 'instrumentalness': 0,\n",
       " 'liveness': 0.14,\n",
       " 'valence': 0.267,\n",
       " 'tempo': 119.878,\n",
       " 'type': 'audio_features',\n",
       " 'id': '6y0igZArWVi6Iz0rj35c1Y',\n",
       " 'uri': 'spotify:track:6y0igZArWVi6Iz0rj35c1Y',\n",
       " 'track_href': 'https://api.spotify.com/v1/tracks/6y0igZArWVi6Iz0rj35c1Y',\n",
       " 'analysis_url': 'https://api.spotify.com/v1/audio-analysis/6y0igZArWVi6Iz0rj35c1Y',\n",
       " 'duration_ms': 234910,\n",
       " 'time_signature': 4}"
      ]
     },
     "execution_count": 8,
     "metadata": {},
     "output_type": "execute_result"
    }
   ],
   "source": [
    "r = r.json()\n",
    "r"
   ]
  },
  {
   "cell_type": "markdown",
   "metadata": {},
   "source": [
    "More Exploration of Artist"
   ]
  },
  {
   "cell_type": "code",
   "execution_count": 26,
   "metadata": {},
   "outputs": [],
   "source": [
    "# artist_id = '06HL4z0CvFAxyc27GXpf02' # Taylor Swift\n",
    "artist_id = '4YRxDV8wJFPHPTeXepOstw' # Arijit Singh\n",
    "artist_id = '6eUKZXaKkcviH0Ku9w2n3V' # Ed Sheeran\n",
    "\n",
    "\n",
    "# pull all artists albums\n",
    "r = requests.get(BASE_URL + 'artists/' + artist_id + '/albums', \n",
    "                 headers=headers, \n",
    "                 params={'include_groups': 'album', 'limit': 50})\n",
    "d = r.json()"
   ]
  },
  {
   "cell_type": "code",
   "execution_count": 27,
   "metadata": {},
   "outputs": [
    {
     "name": "stdout",
     "output_type": "stream",
     "text": [
      "= (Tour Edition)  ---  2022-05-27\n",
      "= (Tour Edition)  ---  2022-05-27\n",
      "= (Tour Edition)  ---  2022-05-27\n",
      "= (Tour Edition)  ---  2022-05-27\n",
      "= (Tour Edition)  ---  2022-05-27\n",
      "= (Tour Edition)  ---  2022-05-27\n",
      "= (Tour Edition)  ---  2022-05-27\n",
      "= (Tour Edition)  ---  2022-05-27\n",
      "= (Tour Edition)  ---  2022-05-27\n",
      "= (Tour Edition)  ---  2022-05-27\n",
      "= (Tour Edition)  ---  2022-05-27\n",
      "= (Tour Edition)  ---  2022-05-27\n",
      "2step (The Remixes)  ---  2022-05-26\n",
      "2step (The Remixes)  ---  2021-10-29\n",
      "=  ---  2021-10-29\n",
      "No.6 Collaborations Project  ---  2019-07-12\n",
      "No.6 Collaborations Project  ---  2019-07-12\n",
      "÷ (Deluxe)  ---  2017-03-03\n",
      "x (Wembley Edition)  ---  2015-11-13\n",
      "5  ---  2014-06-23\n",
      "x (Deluxe Edition)  ---  2014-06-21\n",
      "x (Wembley Edition)  ---  2013\n",
      "x (Wembley Edition)  ---  2013\n",
      "x (Wembley Edition)  ---  2013\n",
      "Live at the Bedford  ---  2011-12-09\n",
      "Loose Change  ---  2011-12-09\n",
      "+  ---  2011-09-09\n",
      "+  ---  2011-09-09\n",
      "+  ---  2011-09-09\n",
      "+  ---  2011-09-09\n",
      "+  ---  2011-09-09\n",
      "No.5 Collaborations Project  ---  2011-09-09\n"
     ]
    }
   ],
   "source": [
    "for album in d['items']:\n",
    "    print(album['name'], ' --- ', album['release_date'])"
   ]
  },
  {
   "cell_type": "code",
   "execution_count": 28,
   "metadata": {},
   "outputs": [
    {
     "name": "stdout",
     "output_type": "stream",
     "text": [
      "= (Tour Edition)\n",
      "2step (The Remixes)\n",
      "No.6 Collaborations Project\n",
      "÷ (Deluxe)\n",
      "x (Wembley Edition)\n",
      "5\n",
      "Live at the Bedford\n",
      "Loose Change\n",
      "+\n",
      "No.5 Collaborations Project\n"
     ]
    }
   ],
   "source": [
    "data = []   # will hold all track info\n",
    "albums = [] # to keep track of duplicates\n",
    "\n",
    "# loop over albums and get all tracks\n",
    "for album in d['items']:\n",
    "    album_name = album['name']\n",
    "\n",
    "    # here's a hacky way to skip over albums we've already grabbed\n",
    "    trim_name = album_name.split('(')[0].strip()\n",
    "    if trim_name.upper() in albums:\n",
    "        continue\n",
    "    albums.append(trim_name.upper()) # use upper() to standardize\n",
    "    \n",
    "    # this takes a few seconds so let's keep track of progress    \n",
    "    print(album_name)\n",
    "    \n",
    "    # # pull all tracks from this album\n",
    "    # r = requests.get(BASE_URL + 'albums/' + album['id'] + '/tracks', \n",
    "    #     headers=headers)\n",
    "    # tracks = r.json()['items']\n",
    "    \n",
    "    # for track in tracks:\n",
    "    #     # get audio features (key, liveness, danceability, ...)\n",
    "    #     f = requests.get(BASE_URL + 'audio-features/' + track['id'], \n",
    "    #         headers=headers)\n",
    "    #     f = f.json()\n",
    "        \n",
    "    #     # combine with album info\n",
    "    #     f.update({\n",
    "    #         'track_name': track['name'],\n",
    "    #         'album_name': album_name,\n",
    "    #         'short_album_name': trim_name,\n",
    "    #         'release_date': album['release_date'],\n",
    "    #         'album_id': album['id']\n",
    "    #     })\n",
    "        \n",
    "    #     data.append(f)"
   ]
  }
 ],
 "metadata": {
  "kernelspec": {
   "display_name": "Python 3.9.6 64-bit",
   "language": "python",
   "name": "python3"
  },
  "language_info": {
   "codemirror_mode": {
    "name": "ipython",
    "version": 3
   },
   "file_extension": ".py",
   "mimetype": "text/x-python",
   "name": "python",
   "nbconvert_exporter": "python",
   "pygments_lexer": "ipython3",
   "version": "3.9.6"
  },
  "orig_nbformat": 4,
  "vscode": {
   "interpreter": {
    "hash": "98d188c3d0791f4ee949b5e94395cd2e96a9e7c1c3297b6bfd729e08ff3565a4"
   }
  }
 },
 "nbformat": 4,
 "nbformat_minor": 2
}

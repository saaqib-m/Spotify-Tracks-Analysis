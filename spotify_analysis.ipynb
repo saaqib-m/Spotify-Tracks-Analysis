{
 "cells": [
  {
   "cell_type": "code",
   "execution_count": 1,
   "metadata": {},
   "outputs": [],
   "source": [
    "import requests"
   ]
  },
  {
   "cell_type": "code",
   "execution_count": 2,
   "metadata": {},
   "outputs": [],
   "source": [
    "CLIENT_ID = ''\n",
    "CLIENT_SECRET = ''"
   ]
  },
  {
   "cell_type": "code",
   "execution_count": 3,
   "metadata": {},
   "outputs": [],
   "source": [
    "# base URL of all Spotify API endpoints\n",
    "BASE_URL = 'https://api.spotify.com/v1/'\n",
    "AUTH_URL = 'https://accounts.spotify.com/api/token'\n",
    "\n",
    "# POST\n",
    "auth_response = requests.post(AUTH_URL, {\n",
    "    'grant_type': 'client_credentials',\n",
    "    'client_id': CLIENT_ID,\n",
    "    'client_secret': CLIENT_SECRET,\n",
    "})\n",
    "\n",
    "# convert the response to JSON\n",
    "auth_response_data = auth_response.json()\n",
    "\n",
    "# save the access token\n",
    "access_token = auth_response_data['access_token']"
   ]
  },
  {
   "cell_type": "code",
   "execution_count": 4,
   "metadata": {},
   "outputs": [],
   "source": [
    "headers = {\n",
    "    'Authorization': 'Bearer {token}'.format(token=access_token)\n",
    "}"
   ]
  },
  {
   "cell_type": "code",
   "execution_count": 5,
   "metadata": {},
   "outputs": [],
   "source": [
    "artist_id = '06HL4z0CvFAxyc27GXpf02' # Taylor Swift\n",
    "# artist_id = '4YRxDV8wJFPHPTeXepOstw' # Arijit Singh\n",
    "# artist_id = '6eUKZXaKkcviH0Ku9w2n3V' # Ed Sheeran\n",
    "\n",
    "\n",
    "# pull all artists albums\n",
    "req = requests.get(BASE_URL + 'artists/' + artist_id + '/albums', \n",
    "                 headers=headers, \n",
    "                 params={'include_groups': 'album', 'limit': 50})\n",
    "album_data = req.json()"
   ]
  },
  {
   "cell_type": "code",
   "execution_count": 2,
   "metadata": {},
   "outputs": [],
   "source": [
    "# album_data['items']"
   ]
  },
  {
   "cell_type": "code",
   "execution_count": 7,
   "metadata": {},
   "outputs": [
    {
     "name": "stdout",
     "output_type": "stream",
     "text": [
      "Red (Taylor's Version)  ---  30  ---  2021-11-12\n",
      "Red (Taylor's Version)  ---  30  ---  2021-11-12\n",
      "Fearless (Taylor's Version)  ---  26  ---  2021-04-09\n",
      "evermore (deluxe version)  ---  17  ---  2021-01-07\n",
      "evermore (deluxe version)  ---  17  ---  2021-01-07\n",
      "evermore  ---  15  ---  2020-12-11\n",
      "evermore  ---  15  ---  2020-12-11\n",
      "evermore  ---  15  ---  2020-12-10\n",
      "folklore: the long pond studio sessions (from the Disney+ special) [deluxe edition]  ---  34  ---  2020-11-25\n",
      "folklore: the long pond studio sessions (from the Disney+ special) [deluxe edition]  ---  34  ---  2020-11-25\n",
      "folklore (deluxe version)  ---  17  ---  2020-08-18\n",
      "folklore (deluxe version)  ---  17  ---  2020-08-17\n",
      "folklore  ---  16  ---  2020-07-24\n",
      "folklore  ---  16  ---  2020-07-24\n",
      "Lover  ---  18  ---  2019-08-23\n",
      "Taylor Swift Karaoke: reputation  ---  15  ---  2018-03-09\n",
      "reputation  ---  15  ---  2017-11-10\n",
      "reputation (Big Machine Radio Release Special)  ---  31  ---  2017-11-10\n",
      "reputation Stadium Tour Surprise Song Playlist  ---  46  ---  2017-11-09\n",
      "Taylor Swift Karaoke: 1989 (Deluxe)  ---  16  ---  2015-02-01\n",
      "1989  ---  13  ---  2014-10-27\n",
      "1989  ---  13  ---  2014-10-27\n",
      "1989 (Big Machine Radio Release Special)  ---  26  ---  2014-10-27\n",
      "Taylor Swift Karaoke: 1989 (Deluxe Edition)  ---  16  ---  2014-10-27\n",
      "Taylor Swift Karaoke: 1989 (Deluxe)  ---  16  ---  2014-10-27\n",
      "Taylor Swift Karaoke: 1989  ---  13  ---  2014-10-27\n",
      "1989 (Deluxe)  ---  19  ---  2014-10-27\n",
      "1989 (Deluxe Edition)  ---  19  ---  2014-10-27\n",
      "1989 (Deluxe Edition)  ---  15  ---  2014-10-27\n",
      "1989  ---  13  ---  2014-01-01\n",
      "1989 (Deluxe)  ---  19  ---  2014-01-01\n",
      "Red (Deluxe Edition)  ---  22  ---  2012-10-22\n",
      "Red (Deluxe Edition)  ---  22  ---  2012-10-22\n",
      "Red (Big Machine Radio Release Special)  ---  32  ---  2012-10-22\n",
      "Red (Karaoke Version)  ---  16  ---  2012-10-22\n",
      "Red  ---  16  ---  2012-10-22\n",
      "Taylor Swift Karaoke: Red  ---  16  ---  2012-10-22\n",
      "Red  ---  16  ---  2012-10-22\n",
      "Speak Now (Japanese Version)  ---  16  ---  2010-10-25\n",
      "Speak Now World Tour Live  ---  16  ---  2010-10-25\n",
      "Speak Now  ---  14  ---  2010-10-25\n",
      "Speak Now  ---  14  ---  2010-10-25\n",
      "Speak Now (Big Machine Radio Release Special)  ---  28  ---  2010-10-25\n",
      "Speak Now (Karaoke Version)  ---  14  ---  2010-10-25\n",
      "Taylor Swift Karaoke: Speak Now  ---  14  ---  2010-10-25\n",
      "Speak Now (Deluxe Edition)  ---  20  ---  2010-10-25\n",
      "Speak Now (US Version)  ---  14  ---  2010-01-01\n",
      "Speak Now (Deluxe Package)  ---  22  ---  2010-01-01\n",
      "Fearless  ---  20  ---  2008-11-11\n",
      "Fearless  ---  17  ---  2008-11-11\n"
     ]
    }
   ],
   "source": [
    "for album in album_data['items']:\n",
    "    print(album['name'], ' --- ', album['total_tracks'], ' --- ', album['release_date'])"
   ]
  },
  {
   "cell_type": "code",
   "execution_count": 10,
   "metadata": {},
   "outputs": [
    {
     "name": "stdout",
     "output_type": "stream",
     "text": [
      "Red (Taylor's Version)\n",
      "Fearless (Taylor's Version)\n",
      "evermore (deluxe version)\n",
      "folklore: the long pond studio sessions (from the Disney+ special) [deluxe edition]\n",
      "folklore (deluxe version)\n",
      "Lover\n",
      "Taylor Swift Karaoke: reputation\n",
      "reputation\n",
      "reputation Stadium Tour Surprise Song Playlist\n",
      "Taylor Swift Karaoke: 1989 (Deluxe)\n",
      "1989\n",
      "Taylor Swift Karaoke: Red\n",
      "Speak Now (Japanese Version)\n",
      "Speak Now World Tour Live\n",
      "Taylor Swift Karaoke: Speak Now\n"
     ]
    }
   ],
   "source": [
    "data = []   # will hold all track info\n",
    "albums = [] # to keep track of duplicates\n",
    "\n",
    "# loop over albums and get all tracks\n",
    "for album in album_data['items']:\n",
    "    album_name = album['name']\n",
    "\n",
    "    trim_name = album_name.split('(')[0].strip()\n",
    "    if trim_name.upper() in albums:\n",
    "        continue\n",
    "    albums.append(trim_name.upper()) # use upper() to standardize\n",
    "    \n",
    "    # this takes a few seconds so let's keep track of progress    \n",
    "    print(album_name)\n",
    "    \n",
    "    # pull all tracks from this album\n",
    "    r = requests.get(BASE_URL + 'albums/' + album['id'] + '/tracks', \n",
    "        headers=headers)\n",
    "    tracks = r.json()['items']\n",
    "    \n",
    "    for track in tracks:\n",
    "        # get audio anlysis\n",
    "        f = requests.get(BASE_URL + 'audio-analysis/' + track['id'], \n",
    "            headers=headers)\n",
    "        f = f.json()\n",
    "\n",
    "        f.update({\n",
    "            'track_name': track['name'],\n",
    "            'album_name': album_name,\n",
    "            'short_album_name': trim_name,\n",
    "            'release_date': album['release_date'],\n",
    "            'album_id': album['id']\n",
    "        })\n",
    "        \n",
    "        data.append(f)"
   ]
  },
  {
   "cell_type": "code",
   "execution_count": 1,
   "metadata": {},
   "outputs": [],
   "source": [
    "# data[1]['segments']"
   ]
  },
  {
   "cell_type": "code",
   "execution_count": null,
   "metadata": {},
   "outputs": [],
   "source": []
  }
 ],
 "metadata": {
  "kernelspec": {
   "display_name": "Python 3.9.6 64-bit",
   "language": "python",
   "name": "python3"
  },
  "language_info": {
   "codemirror_mode": {
    "name": "ipython",
    "version": 3
   },
   "file_extension": ".py",
   "mimetype": "text/x-python",
   "name": "python",
   "nbconvert_exporter": "python",
   "pygments_lexer": "ipython3",
   "version": "3.9.6"
  },
  "orig_nbformat": 4,
  "vscode": {
   "interpreter": {
    "hash": "98d188c3d0791f4ee949b5e94395cd2e96a9e7c1c3297b6bfd729e08ff3565a4"
   }
  }
 },
 "nbformat": 4,
 "nbformat_minor": 2
}
